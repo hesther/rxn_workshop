{
  "nbformat": 4,
  "nbformat_minor": 0,
  "metadata": {
    "colab": {
      "provenance": [],
      "authorship_tag": "ABX9TyPLsgxbL2QU5pAunc7Y2bBQ"
    },
    "kernelspec": {
      "name": "python3",
      "display_name": "Python 3"
    },
    "language_info": {
      "name": "python"
    }
  },
  "cells": [
    {
      "cell_type": "markdown",
      "source": [
        "[![Open In Colab](https://colab.research.google.com/assets/colab-badge.svg)](https://colab.research.google.com/github/hesther/rxn_workshop/blob/main/workshop_exercise.ipynb)"
      ],
      "metadata": {
        "id": "1_ixcPvGP2zw"
      }
    },
    {
      "cell_type": "markdown",
      "source": [
        "# GCNNs for molecules and reactions\n",
        "\n",
        "Welcome to the workshop! This is a nearly-empty notebook that we will complete together during the workshop. If you are reading through this notebook later, open the workshop_solution.ipynb instead.\n",
        "\n",
        "Let's install and import all packages we will need"
      ],
      "metadata": {
        "id": "GQCON6nfPbhG"
      }
    },
    {
      "cell_type": "code",
      "execution_count": null,
      "metadata": {
        "id": "TISSRGAUE1h9"
      },
      "outputs": [],
      "source": [
        "!pip install -q rdkit numpy scikit-learn chemprop torch==2.0.1\n",
        "!pip install -q torch_scatter torch_sparse -f https://data.pyg.org/whl/torch-2.0.1+cpu.html\n",
        "!pip install -q torch_geometric"
      ]
    },
    {
      "cell_type": "code",
      "source": [
        "from rdkit import Chem\n",
        "import pandas as pd\n",
        "import numpy as np\n",
        "import math\n",
        "import matplotlib.pyplot as plt\n",
        "\n",
        "import torch\n",
        "from torch import nn\n",
        "import torch.nn.functional as F\n",
        "\n",
        "import torch_geometric as tg\n",
        "from torch_geometric.data import Dataset\n",
        "from torch_geometric.loader import DataLoader\n",
        "from torch_geometric.nn import MessagePassing\n",
        "from torch_geometric.nn import global_add_pool\n",
        "\n",
        "from sklearn.metrics import mean_absolute_error, mean_squared_error"
      ],
      "metadata": {
        "id": "hS6K5Ux5REXV"
      },
      "execution_count": null,
      "outputs": []
    },
    {
      "cell_type": "markdown",
      "source": [
        "The following cell contains some pre-made functions to obtain atom and bond features. You can always customize these functions or use entirely different ones."
      ],
      "metadata": {
        "id": "L2FY0q-4RGpG"
      }
    },
    {
      "cell_type": "code",
      "source": [
        "def atom_features(atom):\n",
        "    features = onek_encoding_unk(atom.GetSymbol(), ['H', 'C', 'N', 'O', 'F', 'Si', 'P', 'S', 'Cl', 'Br', 'I']) + \\\n",
        "        onek_encoding_unk(atom.GetTotalDegree(), [0, 1, 2, 3, 4, 5]) + \\\n",
        "        onek_encoding_unk(atom.GetFormalCharge(), [-1, -2, 1, 2, 0]) + \\\n",
        "        onek_encoding_unk(int(atom.GetTotalNumHs()), [0, 1, 2, 3, 4]) + \\\n",
        "        onek_encoding_unk(int(atom.GetHybridization()),[Chem.rdchem.HybridizationType.SP,\n",
        "                                                        Chem.rdchem.HybridizationType.SP2,\n",
        "                                                        Chem.rdchem.HybridizationType.SP3,\n",
        "                                                        Chem.rdchem.HybridizationType.SP3D,\n",
        "                                                        Chem.rdchem.HybridizationType.SP3D2\n",
        "                                                        ]) + \\\n",
        "        [1 if atom.GetIsAromatic() else 0] + \\\n",
        "        [atom.GetMass() * 0.01]\n",
        "    return features\n",
        "\n",
        "def bond_features(bond):\n",
        "    bond_fdim = 7\n",
        "\n",
        "    if bond is None:\n",
        "        fbond = [1] + [0] * (bond_fdim - 1)\n",
        "    else:\n",
        "        bt = bond.GetBondType()\n",
        "        fbond = [\n",
        "            0,  # bond is not None\n",
        "            bt == Chem.rdchem.BondType.SINGLE,\n",
        "            bt == Chem.rdchem.BondType.DOUBLE,\n",
        "            bt == Chem.rdchem.BondType.TRIPLE,\n",
        "            bt == Chem.rdchem.BondType.AROMATIC,\n",
        "            (bond.GetIsConjugated() if bt is not None else 0),\n",
        "            (bond.IsInRing() if bt is not None else 0)\n",
        "        ]\n",
        "    return fbond\n",
        "\n",
        "def onek_encoding_unk(value, choices):\n",
        "    encoding = [0] * (len(choices) + 1)\n",
        "    index = choices.index(value) if value in choices else -1\n",
        "    encoding[index] = 1\n",
        "    return encoding\n",
        "\n",
        "def make_mol(smi):\n",
        "    params = Chem.SmilesParserParams()\n",
        "    params.removeHs = False\n",
        "    return Chem.MolFromSmiles(smi,params)"
      ],
      "metadata": {
        "id": "8dRsvKG8RIN6"
      },
      "execution_count": null,
      "outputs": []
    }
  ]
}