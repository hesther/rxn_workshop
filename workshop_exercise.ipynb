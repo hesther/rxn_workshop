{
  "nbformat": 4,
  "nbformat_minor": 0,
  "metadata": {
    "colab": {
      "provenance": [],
      "authorship_tag": "ABX9TyOb+5TBz7lakpsj/7hSawHT",
      "include_colab_link": true
    },
    "kernelspec": {
      "name": "python3",
      "display_name": "Python 3"
    },
    "language_info": {
      "name": "python"
    }
  },
  "cells": [
    {
      "cell_type": "markdown",
      "metadata": {
        "id": "view-in-github",
        "colab_type": "text"
      },
      "source": [
        "<a href=\"https://colab.research.google.com/github/hesther/rxn_workshop/blob/main/workshop_exercise.ipynb\" target=\"_parent\"><img src=\"https://colab.research.google.com/assets/colab-badge.svg\" alt=\"Open In Colab\"/></a>"
      ]
    },
    {
      "cell_type": "markdown",
      "source": [
        "[![Open In Colab](https://colab.research.google.com/assets/colab-badge.svg)](https://colab.research.google.com/github/hesther/rxn_workshop/blob/main/workshop_exercise.ipynb)"
      ],
      "metadata": {
        "id": "1_ixcPvGP2zw"
      }
    },
    {
      "cell_type": "markdown",
      "source": [
        "# GCNNs for molecules and reactions\n",
        "\n",
        "Welcome to the workshop! This is a nearly-empty notebook that we will complete together during the workshop. If you are reading through this notebook later, open the workshop_solution.ipynb instead.\n",
        "\n",
        "Let's install and import all packages we will need"
      ],
      "metadata": {
        "id": "GQCON6nfPbhG"
      }
    },
    {
      "cell_type": "code",
      "execution_count": null,
      "metadata": {
        "id": "TISSRGAUE1h9"
      },
      "outputs": [],
      "source": [
        "!pip install -q rdkit numpy scikit-learn chemprop torch==2.0.1\n",
        "!pip install -q torch_scatter torch_sparse -f https://data.pyg.org/whl/torch-2.0.1+cpu.html\n",
        "!pip install -q torch_geometric"
      ]
    }
  ]
}